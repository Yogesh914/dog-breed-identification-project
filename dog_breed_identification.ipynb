{
  "nbformat": 4,
  "nbformat_minor": 0,
  "metadata": {
    "colab": {
      "provenance": [],
      "authorship_tag": "ABX9TyMXZFFlOVbJhXw9W9HbG02C",
      "include_colab_link": true
    },
    "kernelspec": {
      "name": "python3",
      "display_name": "Python 3"
    },
    "language_info": {
      "name": "python"
    }
  },
  "cells": [
    {
      "cell_type": "markdown",
      "metadata": {
        "id": "view-in-github",
        "colab_type": "text"
      },
      "source": [
        "<a href=\"https://colab.research.google.com/github/Yogesh914/dog-breed-identification-project/blob/main/dog_breed_identification.ipynb\" target=\"_parent\"><img src=\"https://colab.research.google.com/assets/colab-badge.svg\" alt=\"Open In Colab\"/></a>"
      ]
    },
    {
      "cell_type": "markdown",
      "source": [
        "# 🦮 Dog Breed Idetification Project\n",
        "\n",
        "This notebook builds a multi-class image classifier using TensorFlow and TensorFlow Hub.\n",
        "\n",
        "## Problem\n",
        "\n",
        "## Data\n",
        "\n",
        "## Expectation\n",
        "\n",
        "## Features"
      ],
      "metadata": {
        "id": "PVza5RKKoflw"
      }
    },
    {
      "cell_type": "code",
      "execution_count": null,
      "metadata": {
        "id": "mafeEfpvmKkJ"
      },
      "outputs": [],
      "source": [
        "#!unzip \"/content/drive/MyDrive/data/dog-indetification/dog-breed-identification.zip\" -d \"/content/drive/MyDrive/data/dog-indetification/\""
      ]
    },
    {
      "cell_type": "code",
      "source": [],
      "metadata": {
        "id": "TpRSGKJGF4B0"
      },
      "execution_count": null,
      "outputs": []
    }
  ]
}